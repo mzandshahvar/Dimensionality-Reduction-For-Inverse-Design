{
 "cells": [
  {
   "cell_type": "markdown",
   "source": [
    "# Dataset Generation for Scattering from Multi-Layered Metamaterials\n",
    "\n",
    "This program calculates and plots refraction and transmission coefficients of multi-layered structures as a function of frequency for a specific angle of incidence.\n",
    "\n",
    "This code is adapted from the MATLAB code in Umit Cotuk's thesis \"Scattering from multi-layered metamaterials using wave matrices\", as found at http://hdl.handle.net/10945/2115."
   ],
   "metadata": {
    "collapsed": false,
    "pycharm": {
     "name": "#%% md\n"
    }
   }
  },
  {
   "cell_type": "code",
   "execution_count": 8,
   "metadata": {},
   "outputs": [],
   "source": [
    "import numpy as np\n",
    "import matplotlib.pyplot as plt\n",
    "import math\n",
    "from tqdm import trange"
   ]
  },
  {
   "cell_type": "code",
   "execution_count": 9,
   "metadata": {},
   "outputs": [],
   "source": [
    "def calc_response(f, theta, p, Mu, Ei, l, Sigma):\n",
    "    \"\"\"\n",
    "    Calculate the transmission and reflection response of a structure with the given properties.\n",
    "\n",
    "    Parameters\n",
    "    ----------\n",
    "    f: ndarray(shape=(M,), dtype=float)\n",
    "        frequency range (GHz)\n",
    "    theta: float\n",
    "        Incidence angle (degrees)\n",
    "    p: Union[Literal[0], Literal[1]]\n",
    "        Polarization type - parallel (1) or perpendicular (2)\n",
    "    Mu: ndarray(shape=(N, 1), dtype=float)\n",
    "        permability (μ) for each layer\n",
    "    Ei: ndarray(shape=(N, 1), dtype=float)\n",
    "        permittivity (ɛ) for each layer\n",
    "    l: ndarray(shape=(N, 1), dtype=float)\n",
    "        length of each layer (meters)\n",
    "    Sigma: ndarray(shape=(N, 1), dtype=float)\n",
    "        material's loss for each layer\n",
    "\n",
    "    Returns\n",
    "    -------\n",
    "    tuple[ndarray(shape=(M,), dtype=complex), ndarray(shape=(M,), dtype=complex)]\n",
    "        transmission response, reflection response\n",
    "    \"\"\"\n",
    "    E0 = 8.85e-12         # Permittivity of free space\n",
    "    Mu0 = 12.5664e-7      # Permeability of free space\n",
    "    c = 1/np.sqrt(E0*Mu0) # Speed of light (m/s)\n",
    "\n",
    "    N = len(Mu) # number of layers\n",
    "    thr = theta*np.pi/180 # Angle of incidence (radians)\n",
    "    st = math.sin(thr)\n",
    "    ct = math.cos(thr)\n",
    "\n",
    "    reflection = []\n",
    "    transmission = []\n",
    "\n",
    "    E = np.abs(Ei)\n",
    "\n",
    "    rho = np.zeros_like(Ei, dtype=complex)\n",
    "    tau = np.zeros_like(Ei, dtype=complex)\n",
    "    w = np.zeros_like(f, dtype=complex)\n",
    "\n",
    "    # This part calculates the total reflection and transmission coefficients of the structure\n",
    "    for i in range(len(f)):\n",
    "        wl = c/(f[i]*1e9)\n",
    "        beta1 = 2*(np.pi/wl)\n",
    "        total = np.array([[1,0], [0,1]], dtype=complex)\n",
    "        w[i] = 2*np.pi*f[i]*1e9\n",
    "\n",
    "        # Calculating the characteristic impedance of the layers\n",
    "        Er = np.zeros_like(E, dtype=complex)\n",
    "        Z = np.zeros_like(E, dtype=complex)\n",
    "        for k in range(N):\n",
    "            Er[k] = E[k] - (1j * Sigma[k]/w[i]/E0)\n",
    "\n",
    "            if p == 1:\n",
    "                Z[k] = np.sqrt(Er[k] * Mu[k]-st**2)/Er[k]/ct\n",
    "            elif p == 2:\n",
    "                Z[k] = Mu[k] * ct/np.sqrt(Er[k] * Mu[k]-st**2)\n",
    "\n",
    "        # Individual reflection and transmission coefficients of the layers\n",
    "        rho[0] = (Z[0] - 1)/(Z[0] + 1)\n",
    "        tau[0] = rho[0] + 1\n",
    "\n",
    "        for m in range(1, N):\n",
    "            rho[m] = (Z[m]-Z[m-1])/(Z[m]+Z[m-1])\n",
    "            tau[m] = rho[m] + 1\n",
    "\n",
    "        # Generating wave matrices\n",
    "        for n in range(N-1):\n",
    "            sign = -1 if Ei[n] < 0 else 1\n",
    "            beta = beta1*sign\n",
    "            A = np.exp(1j*beta*l[n]*np.sqrt(Er[n]-st**2))\n",
    "            Ac = np.exp(-1j*beta*l[n]*np.sqrt(Er[n]-st**2))\n",
    "            total = np.matmul(total, np.squeeze(np.array([[A, rho[n]*Ac],[rho[n]*A, Ac]])), dtype=complex)/tau[n]\n",
    "\n",
    "        total = np.matmul(total, np.array([[1, rho[N-1][0]], [rho[N-1][0], 1]]))/tau[N-1]\n",
    "        reflection.append(total[1,0]/total[0,0])\n",
    "        transmission.append(1/total[0,0])\n",
    "\n",
    "    transmission_response = np.abs(np.array(transmission, dtype=complex))\n",
    "    reflection_response = np.abs(np.array(reflection, dtype=complex))\n",
    "    return transmission_response, reflection_response"
   ]
  },
  {
   "cell_type": "markdown",
   "source": [
    "## Define dataset parameters"
   ],
   "metadata": {
    "collapsed": false,
    "pycharm": {
     "name": "#%% md\n"
    }
   }
  },
  {
   "cell_type": "code",
   "execution_count": 12,
   "metadata": {},
   "outputs": [],
   "source": [
    "# Material property constants\n",
    "epsilon_SiO2 = 1.46\n",
    "epsilon_SiN3 = 3.1\n",
    "epsilon_TiO2 = 5.913\n",
    "\n",
    "# Define dataset parameters\n",
    "fileName = 'SiO2_TiO2_6layer'  # Dataset file name\n",
    "\n",
    "NDataPoints = 20000            # Number of structures to generate\n",
    "NSamp = 201                    # Number of samples in the response\n",
    "\n",
    "fmin = 450e3                   # min frequency in GHz (ex. 450e3 -> 450 THz)\n",
    "fmax = 750e3                   # max frequency in GHz\n",
    "f = np.linspace(fmin, fmax, NSamp)   # frequency range\n",
    "\n",
    "p = 1                          # p = Polarization Type Parallel (1), Perpendicular (2)\n",
    "theta = 0                      # theta = Incidence Angle (Degree)\n",
    "\n",
    "# Define structure properties\n",
    "N = 6                          # num layers\n",
    "\n",
    "# lmin = 100e-9                # Min layer height (m)\n",
    "# lmax = 160e-9                # Max layer height (m)\n",
    "# Function to create a device with random design parameters\n",
    "make_rand_layers = lambda: np.random.randint(100, 160, (N,))*1e-9\n",
    "\n",
    "epsilon_1 = epsilon_SiO2       # First material's permittivity (ɛ)\n",
    "epsilon_2 = epsilon_TiO2       # Second material's permittivity (ɛ)\n",
    "\n",
    "Mu_1 = 1                       # First material's permeability (μ)\n",
    "Mu_2 = 1                       # Second material's permeability (μ)\n",
    "\n",
    "sigma_1 = 0                    # First material's loss (sigma)\n",
    "sigma_2 = 0                    # Second material's loss (sigma)\n",
    "\n",
    "# Define Mu, Ei, Sigma by alternating the two materials\n",
    "Mu = np.empty((N, 1))\n",
    "Ei = np.empty((N, 1))\n",
    "sigma = np.empty((N, 1))\n",
    "\n",
    "for i in range(N):\n",
    "    if i%2 == 0:\n",
    "        Mu[i] = Mu_1\n",
    "        Ei[i] = epsilon_1\n",
    "        sigma[i] = sigma_1\n",
    "    \n",
    "    else:\n",
    "        Mu[i] = Mu_2\n",
    "        Ei[i] = epsilon_2\n",
    "        sigma[i] = sigma_2"
   ]
  },
  {
   "cell_type": "code",
   "execution_count": 20,
   "outputs": [
    {
     "name": "stdout",
     "output_type": "stream",
     "text": [
      "[1.53e-07 1.23e-07 1.02e-07 1.50e-07 1.48e-07 1.09e-07]\n"
     ]
    },
    {
     "data": {
      "text/plain": "<matplotlib.legend.Legend at 0x1655f90f108>"
     },
     "execution_count": 20,
     "metadata": {},
     "output_type": "execute_result"
    },
    {
     "data": {
      "text/plain": "<Figure size 432x288 with 1 Axes>",
      "image/png": "[encoded data removed]"
     },
     "metadata": {
      "needs_background": "light"
     },
     "output_type": "display_data"
    }
   ],
   "source": [
    "# As an example, plot transmission and reflectance response from a randomly generated device\n",
    "layers = make_rand_layers()\n",
    "print(layers)\n",
    "trans_resp, refl_resp = calc_response(f, theta, p, Mu, Ei, layers, sigma)\n",
    "plt.plot(trans_resp, label='Transmission response')\n",
    "plt.plot(refl_resp, label='Reflection response')\n",
    "plt.legend(loc='upper left')"
   ],
   "metadata": {
    "collapsed": false,
    "pycharm": {
     "name": "#%%\n"
    }
   }
  },
  {
   "cell_type": "markdown",
   "source": [
    "## Create dataset"
   ],
   "metadata": {
    "collapsed": false
   }
  },
  {
   "cell_type": "code",
   "execution_count": 21,
   "outputs": [
    {
     "name": "stderr",
     "output_type": "stream",
     "text": [
      "100%|██████████| 20000/20000 [14:43<00:00, 22.64it/s]\n"
     ]
    }
   ],
   "source": [
    "transmission_responses = np.zeros((NSamp, NDataPoints))\n",
    "reflection_responses = np.zeros((NSamp, NDataPoints))\n",
    "device_layers = np.zeros((N, NDataPoints))\n",
    "\n",
    "for device_num in trange(NDataPoints):\n",
    "    layers = make_rand_layers()\n",
    "    trans_resp, refl_resp = calc_response(f, theta, p, Mu, Ei, layers, sigma)\n",
    "    transmission_responses[:, device_num] = trans_resp\n",
    "    reflection_responses[:, device_num] = refl_resp\n",
    "    device_layers[:, device_num] = layers\n",
    "\n",
    "# Create CSV for transmission responses, where each device's response is one column\n",
    "np.savetxt(fileName + '_RS_transmission.csv', transmission_responses, delimiter=',')\n",
    "\n",
    "# Create CSV for reflection responses, where each device's response is one column\n",
    "np.savetxt(fileName + '_RS_reflection.csv', reflection_responses, delimiter=',')\n",
    "\n",
    "# Create CSV for design parameters, where each device's design is one column\n",
    "np.savetxt(fileName + '_DS.csv', device_layers, delimiter=',')\n"
   ],
   "metadata": {
    "collapsed": false,
    "pycharm": {
     "name": "#%%\n"
    }
   }
  }
 ],
 "metadata": {
  "kernelspec": {
   "display_name": "Python 3",
   "language": "python",
   "name": "python3"
  },
  "language_info": {
   "codemirror_mode": {
    "name": "ipython",
    "version": 3
   },
   "file_extension": ".py",
   "mimetype": "text/x-python",
   "name": "python",
   "nbconvert_exporter": "python",
   "pygments_lexer": "ipython3",
   "version": "3.7.8"
  },
  "toc": {
   "base_numbering": 1,
   "nav_menu": {},
   "number_sections": true,
   "sideBar": true,
   "skip_h1_title": false,
   "title_cell": "Table of Contents",
   "title_sidebar": "Contents",
   "toc_cell": false,
   "toc_position": {},
   "toc_section_display": true,
   "toc_window_display": false
  }
 },
 "nbformat": 4,
 "nbformat_minor": 2
}